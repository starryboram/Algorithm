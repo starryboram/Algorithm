{
  "nbformat": 4,
  "nbformat_minor": 0,
  "metadata": {
    "colab": {
      "provenance": [],
      "collapsed_sections": []
    },
    "kernelspec": {
      "name": "python3",
      "display_name": "Python 3"
    },
    "language_info": {
      "name": "python"
    }
  },
  "cells": [
    {
      "cell_type": "code",
      "execution_count": null,
      "metadata": {
        "id": "iTAHa7YqYCjG"
      },
      "outputs": [],
      "source": [
        "def solution(answers):\n",
        "    answer1 = []\n",
        "    answer2 = []\n",
        "    answer3 = []\n",
        "    a = [1,2,3,4,5] * 2000\n",
        "    b = [2,1,2,3,2,4,2,5] * 1250\n",
        "    c = [3,3,1,1,2,2,4,4,5,5] * 1000\n",
        "    for i in range(len(answers)):\n",
        "        if a[i]/answers[i] == 1.0:\n",
        "            answer1.append(a[i])\n",
        "    a_len = len(answer1)\n",
        "\n",
        "    for i in range(len(answers)):\n",
        "        if b[i]/answers[i] == 1.0:\n",
        "            answer2.append(b[i])\n",
        "    b_len = len(answer2)\n",
        "\n",
        "    for i in range(len(answers)):\n",
        "        if c[i]/answers[i] == 1.0:\n",
        "            answer3.append(c[i])\n",
        "    c_len = len(answer3)\n",
        "\n",
        "    if a_len == 0 and  b_len == 0 and c_len == 0:\n",
        "        return []\n",
        "\n",
        "    elif c_len != 0 and b_len != 0 and a_len ==0:\n",
        "        if (b_len > c_len):\n",
        "            return [2]\n",
        "        elif (c_len > b_len):\n",
        "            return [3]\n",
        "        elif (b_len == c_len):\n",
        "            return [2,3]\n",
        "\n",
        "    elif c_len == 0 and b_len != 0 and a_len !=0:\n",
        "        if (a_len > b_len):\n",
        "            return [1]\n",
        "        elif (b_len > a_len):\n",
        "            return [2]\n",
        "        elif (a_len == b_len):\n",
        "            return [1,2]\n",
        "    \n",
        "    elif c_len != 0 and b_len == 0 and a_len !=0:\n",
        "        if (a_len > c_len):\n",
        "            return [1]\n",
        "        elif (c_len > a_len):\n",
        "            return [3]\n",
        "        elif (a_len == c_len):\n",
        "            return [1,3]\n",
        "    \n",
        "    elif a_len != 0 and b_len == 0 and c_len == 0:\n",
        "        return [1]\n",
        "    elif a_len == 0 and b_len != 0 and c_len == 0:\n",
        "        return [2]\n",
        "    elif a_len == 0 and b_len == 0 and c_len != 0:\n",
        "        return [3]\n",
        "\n",
        "    elif c_len != 0 and b_len != 0 and a_len !=0:\n",
        "        if (a_len > b_len > c_len) or (a_len > c_len > b_len) or (a_len > b_len == c_len):\n",
        "            return [1]\n",
        "        elif (b_len > a_len > c_len) or (b_len > c_len > a_len) or (b_len > a_len == c_len):\n",
        "            return [2]\n",
        "        elif (c_len > a_len > b_len) or (c_len > b_len > a_len) or (c_len > a_len == b_len):\n",
        "            return [3]\n",
        "        elif (a_len == b_len > c_len):\n",
        "            return [1,2]\n",
        "        elif (a_len == c_len > b_len):\n",
        "             return [1,3]\n",
        "        elif (b_len == c_len > a_len):\n",
        "             return [2,3]\n",
        "        elif (a_len == b_len == c_len):\n",
        "            return [1,2,3]"
      ]
    },
    {
      "cell_type": "markdown",
      "source": [
        "# 다른사람 풀이"
      ],
      "metadata": {
        "id": "ImbHaapZYEVp"
      }
    },
    {
      "cell_type": "code",
      "source": [
        "def solution(answers):\n",
        "    p = [[1, 2, 3, 4, 5],\n",
        "         [2, 1, 2, 3, 2, 4, 2, 5],\n",
        "         [3, 3, 1, 1, 2, 2, 4, 4, 5, 5]]\n",
        "    s = [0] * len(p)\n",
        "\n",
        "    for q, a in enumerate(answers):\n",
        "        for i, v in enumerate(p):\n",
        "            if a == v[q % len(v)]:\n",
        "                s[i] += 1\n",
        "    return [i + 1 for i, v in enumerate(s) if v == max(s)]"
      ],
      "metadata": {
        "id": "XC5vEXgtYFkg"
      },
      "execution_count": null,
      "outputs": []
    },
    {
      "cell_type": "markdown",
      "source": [
        "# 다른사람 풀이(2)"
      ],
      "metadata": {
        "id": "9NuujlEcYb26"
      }
    },
    {
      "cell_type": "code",
      "source": [
        "def solution(answers):\n",
        "    pattern1 = [1,2,3,4,5]\n",
        "    pattern2 = [2,1,2,3,2,4,2,5]\n",
        "    pattern3 = [3,3,1,1,2,2,4,4,5,5]\n",
        "    score = [0, 0, 0]\n",
        "    result = []\n",
        "\n",
        "    for idx, answer in enumerate(answers):\n",
        "        if answer == pattern1[idx%len(pattern1)]:\n",
        "            score[0] += 1\n",
        "        if answer == pattern2[idx%len(pattern2)]:\n",
        "            score[1] += 1\n",
        "        if answer == pattern3[idx%len(pattern3)]:\n",
        "            score[2] += 1\n",
        "\n",
        "    for idx, s in enumerate(score):\n",
        "        if s == max(score):\n",
        "            result.append(idx+1)\n",
        "\n",
        "    return result"
      ],
      "metadata": {
        "id": "Z6WuU0fFYdvc"
      },
      "execution_count": null,
      "outputs": []
    }
  ]
}