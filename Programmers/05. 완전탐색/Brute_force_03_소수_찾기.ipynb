{
  "nbformat": 4,
  "nbformat_minor": 0,
  "metadata": {
    "colab": {
      "provenance": [],
      "collapsed_sections": []
    },
    "kernelspec": {
      "name": "python3",
      "display_name": "Python 3"
    },
    "language_info": {
      "name": "python"
    }
  },
  "cells": [
    {
      "cell_type": "code",
      "execution_count": null,
      "metadata": {
        "id": "QPcoAV40cGmQ"
      },
      "outputs": [],
      "source": [
        "import numpy as np\n",
        "import itertools # 함수 선언\n",
        "def solution(numbers):\n",
        "    n = list(numbers)\n",
        "    a = []\n",
        "    for i in range(1, len(n)+1):\n",
        "        a.append(list(map(''.join, itertools.permutations(n,i))))\n",
        "        b = np.concatenate(a).tolist()\n",
        "\n",
        "    # int형식으로 바꾸기 + set변환 시키기\n",
        "    b = list(map(int, b))\n",
        "\n",
        "    # 소수판별하기\n",
        "    arr = []\n",
        "    answer = []\n",
        "    for i in b:\n",
        "        for j in range(1,int(i**0.5)+1): # 반만 계산\n",
        "            if i%j == 0:\n",
        "                arr.append(j)\n",
        "        if len(arr) == 1:\n",
        "            answer.append(i)\n",
        "        arr.clear()\n",
        "    \n",
        "    if 1 in answer:\n",
        "        return len(set(answer)) - 1\n",
        "    \n",
        "    else:\n",
        "        return len(set(answer))"
      ]
    }
  ]
}