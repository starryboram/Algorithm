{
  "nbformat": 4,
  "nbformat_minor": 0,
  "metadata": {
    "colab": {
      "provenance": []
    },
    "kernelspec": {
      "name": "python3",
      "display_name": "Python 3"
    },
    "language_info": {
      "name": "python"
    }
  },
  "cells": [
    {
      "cell_type": "code",
      "execution_count": 11,
      "metadata": {
        "colab": {
          "base_uri": "https://localhost:8080/"
        },
        "id": "2LkVndE1VRZa",
        "outputId": "8aa81755-605f-4efc-af28-b1e5abe377c7"
      },
      "outputs": [
        {
          "output_type": "execute_result",
          "data": {
            "text/plain": [
              "120"
            ]
          },
          "metadata": {},
          "execution_count": 11
        }
      ],
      "source": [
        "def solution(sizes):\n",
        "    new_sizes=[]\n",
        "    for i in range(len(sizes)):\n",
        "        new_sizes.append(sorted(sizes[i]))\n",
        "\n",
        "    a_list =[]\n",
        "    b_list = []\n",
        "    for i in range(len(new_sizes)):\n",
        "        a_list.append(new_sizes[i][0])\n",
        "        b_list.append(new_sizes[i][1])\n",
        "    return max(a_list) * max(b_list)"
      ]
    },
    {
      "cell_type": "markdown",
      "source": [
        "# 충격"
      ],
      "metadata": {
        "id": "wLbdZwa8X0V6"
      }
    },
    {
      "cell_type": "code",
      "source": [
        "def solution(sizes):\n",
        "    return max(max(x) for x in sizes) * max(min(x) for x in sizes)"
      ],
      "metadata": {
        "id": "y8qynzwuX1aB"
      },
      "execution_count": null,
      "outputs": []
    }
  ]
}