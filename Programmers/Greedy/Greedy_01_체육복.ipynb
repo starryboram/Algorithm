{
  "nbformat": 4,
  "nbformat_minor": 0,
  "metadata": {
    "colab": {
      "provenance": []
    },
    "kernelspec": {
      "name": "python3",
      "display_name": "Python 3"
    },
    "language_info": {
      "name": "python"
    }
  },
  "cells": [
    {
      "cell_type": "markdown",
      "source": [
        "# 체육복\n",
        "\n",
        "문제 설명\n",
        "점심시간에 도둑이 들어, 일부 학생이 체육복을 도난당했습니다. 다행히 여벌 체육복이 있는 학생이 이들에게 체육복을 빌려주려 합니다. 학생들의 번호는 체격 순으로 매겨져 있어, 바로 앞번호의 학생이나 바로 뒷번호의 학생에게만 체육복을 빌려줄 수 있습니다. 예를 들어, 4번 학생은 3번 학생이나 5번 학생에게만 체육복을 빌려줄 수 있습니다. 체육복이 없으면 수업을 들을 수 없기 때문에 체육복을 적절히 빌려 최대한 많은 학생이 체육수업을 들어야 합니다.\n",
        "\n",
        "전체 학생의 수 n, 체육복을 도난당한 학생들의 번호가 담긴 배열 lost, 여벌의 체육복을 가져온 학생들의 번호가 담긴 배열 reserve가 매개변수로 주어질 때, 체육수업을 들을 수 있는 학생의 최댓값을 return 하도록 solution 함수를 작성해주세요.\n",
        "\n",
        "[제한 사항]\n",
        "\n",
        "    전체 학생의 수는 2명 이상 30명 이하입니다.\n",
        "    체육복을 도난당한 학생의 수는 1명 이상 n명 이하이고 중복되는 번호는 없습니다.\n",
        "    여벌의 체육복을 가져온 학생의 수는 1명 이상 n명 이하이고 중복되는 번호는 없습니다.\n",
        "    여벌 체육복이 있는 학생만 다른 학생에게 체육복을 빌려줄 수 있습니다.\n",
        "    여벌 체육복을 가져온 학생이 체육복을 도난당했을 수 있습니다. 이때 이 학생은 체육복을 하나만 도난당했다고 가정하며, 남은 체육복이 하나이기에 다른 학생에게는 체육복을 빌려줄 수 없습니다."
      ],
      "metadata": {
        "id": "SmXMgkTMmdjy"
      }
    },
    {
      "cell_type": "code",
      "source": [
        "def solution(n, lost, reserve):\n",
        "    arr = [0] * n # 체육복 가지고 있는 학생 수 만큼 배열 생성\n",
        "\n",
        "    for i in range(len(lost)): # 잃어버린애들 -1로 표시\n",
        "        arr[(lost[i]-1)] = -1\n",
        "\n",
        "    for j in range(len(reserve)): # 여유분 가지고 있는 애들 1로 표시\n",
        "        arr[(reserve[j]-1)] = arr[(reserve[j]-1)] + 1\n",
        "\n",
        "    for i in range(len(arr)-1):\n",
        "        if (arr[i] == -1 and arr[i+1] == 1) or (arr[i] == 1 and arr[i+1]== -1):\n",
        "            arr[i] = 0\n",
        "            arr[i+1] = 0\n",
        "            \n",
        "    cnt = 0\n",
        "    for j in range(len(arr)): # arr배열에서 0보다 큰 애들은 체육복을 가지고 있는 것을 의미\n",
        "        if arr[j] >= 0:\n",
        "            cnt += 1\n",
        "    \n",
        "    return cnt\n",
        "\n",
        "\n",
        "n = 10\n",
        "lost = [1, 3, 5, 7]\n",
        "reserve = [1, 3]\n",
        "solution(n, lost, reserve) # 확인용"
      ],
      "metadata": {
        "colab": {
          "base_uri": "https://localhost:8080/"
        },
        "id": "x0sZ4t9LAQ9a",
        "outputId": "9c57362c-4659-4772-b997-e8bc5c0a1620"
      },
      "execution_count": 1,
      "outputs": [
        {
          "output_type": "execute_result",
          "data": {
            "text/plain": [
              "8"
            ]
          },
          "metadata": {},
          "execution_count": 1
        }
      ]
    }
  ]
}